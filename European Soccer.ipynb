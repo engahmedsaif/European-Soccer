{
 "cells": [
  {
   "cell_type": "markdown",
   "metadata": {},
   "source": [
    "\n",
    "# Project:  Soccer Database \n",
    "\n",
    "## Table of Contents\n",
    "<ul>\n",
    "<li><a href=\"#intro\">Introduction</a></li>\n",
    "<li><a href=\"#wrangling\">Data Wrangling</a></li>\n",
    "<li><a href=\"#eda\">Exploratory Data Analysis</a></li>\n",
    "<li><a href=\"#conclusions\">Conclusions</a></li>\n",
    "</ul>"
   ]
  },
  {
   "cell_type": "markdown",
   "metadata": {},
   "source": [
    "<a id='intro'></a>\n",
    "## Introduction\n",
    "\n",
    "The purpose of this project is analyze data downloaded from kaggle (European Soccer Database) as \"database.sqlite\" file.\n",
    "\n",
    "Its contain data for euro team matchs from 2008 to 2016.\n",
    "\n",
    "After analysis and explore the data we will answer belowe questions:\n",
    "\n",
    "1- which teams had scored the most goals in one season?\n",
    "\n",
    "2- what is the team attributes lead to most score in one season?\n",
    "\n",
    "\n"
   ]
  },
  {
   "cell_type": "markdown",
   "metadata": {},
   "source": [
    "<a id='wrangling'></a>\n",
    "## Data Wrangling\n",
    "\n"
   ]
  },
  {
   "cell_type": "markdown",
   "metadata": {},
   "source": [
    "Import Libraries"
   ]
  },
  {
   "cell_type": "code",
   "execution_count": 1,
   "metadata": {},
   "outputs": [],
   "source": [
    "import pandas as pd\n",
    "import numpy as np\n",
    "import sqlite3 as sql\n",
    "import matplotlib.pyplot as plt\n",
    "%matplotlib inline\n",
    "import seaborn as sns"
   ]
  },
  {
   "cell_type": "markdown",
   "metadata": {},
   "source": [
    "load data"
   ]
  },
  {
   "cell_type": "code",
   "execution_count": 2,
   "metadata": {},
   "outputs": [],
   "source": [
    "database = \"database.sqlite\"\n",
    "connection = sql.connect(database)\n",
    "df_country = pd.read_sql('''SELECT * FROM Country ''',connection)\n",
    "df_league = pd.read_sql('''SELECT * FROM League ''',connection)\n",
    "df_match = pd.read_sql('''SELECT * FROM Match ''',connection)\n",
    "df_team = pd.read_sql('''SELECT * FROM Team''',connection)\n",
    "df_team_attributes = pd.read_sql('''SELECT * FROM Team_Attributes''',connection)\n",
    "df_sqlite_sequence = pd.read_sql('''SELECT * FROM sqlite_sequence''',connection)"
   ]
  },
  {
   "cell_type": "markdown",
   "metadata": {},
   "source": [
    "<a id='eda'></a>\n",
    "## Exploratory Data Analysis\n",
    "\n",
    "\n",
    "\n"
   ]
  },
  {
   "cell_type": "markdown",
   "metadata": {},
   "source": [
    "Create a function to explore  the data:\n",
    "\n",
    "    * Shape \n",
    "    * info\n",
    "    * head\n",
    "    * describe\n",
    "    * uplicate\n",
    "    * Null values"
   ]
  },
  {
   "cell_type": "code",
   "execution_count": 3,
   "metadata": {},
   "outputs": [],
   "source": [
    "def explore(table):\n",
    "    \n",
    "    print(\"Shape table is : \", table.shape)\n",
    "    print(\"_\" * 100)\n",
    "    print(table.info())         \n",
    "    print(\"_\" * 100)\n",
    "    print(table.head())\n",
    "    print(\"_\" * 100)\n",
    "    print(\"Number of duplicated rows is : \" , table.duplicated().sum())    \n",
    "    print(\"_\" * 100)\n",
    "    print(table.describe())\n",
    "    print(\"_\" * 100)\n",
    "    print(\"Number of null values is : \", table.isnull().sum().sum())\n",
    "    print(\"_\" * 100)"
   ]
  },
  {
   "cell_type": "markdown",
   "metadata": {},
   "source": [
    "Explore league"
   ]
  },
  {
   "cell_type": "code",
   "execution_count": 4,
   "metadata": {},
   "outputs": [
    {
     "name": "stdout",
     "output_type": "stream",
     "text": [
      "Shape table is :  (11, 3)\n",
      "____________________________________________________________________________________________________\n",
      "<class 'pandas.core.frame.DataFrame'>\n",
      "RangeIndex: 11 entries, 0 to 10\n",
      "Data columns (total 3 columns):\n",
      " #   Column      Non-Null Count  Dtype \n",
      "---  ------      --------------  ----- \n",
      " 0   id          11 non-null     int64 \n",
      " 1   country_id  11 non-null     int64 \n",
      " 2   name        11 non-null     object\n",
      "dtypes: int64(2), object(1)\n",
      "memory usage: 392.0+ bytes\n",
      "None\n",
      "____________________________________________________________________________________________________\n",
      "      id  country_id                    name\n",
      "0      1           1  Belgium Jupiler League\n",
      "1   1729        1729  England Premier League\n",
      "2   4769        4769          France Ligue 1\n",
      "3   7809        7809   Germany 1. Bundesliga\n",
      "4  10257       10257           Italy Serie A\n",
      "____________________________________________________________________________________________________\n",
      "Number of duplicated rows is :  0\n",
      "____________________________________________________________________________________________________\n",
      "                 id    country_id\n",
      "count     11.000000     11.000000\n",
      "mean   12452.090909  12452.090909\n",
      "std     8215.308472   8215.308472\n",
      "min        1.000000      1.000000\n",
      "25%     6289.000000   6289.000000\n",
      "50%    13274.000000  13274.000000\n",
      "75%    18668.000000  18668.000000\n",
      "max    24558.000000  24558.000000\n",
      "____________________________________________________________________________________________________\n",
      "Number of null values is :  0\n",
      "____________________________________________________________________________________________________\n"
     ]
    }
   ],
   "source": [
    "explore(df_league)"
   ]
  },
  {
   "cell_type": "markdown",
   "metadata": {},
   "source": [
    "Explore match"
   ]
  },
  {
   "cell_type": "code",
   "execution_count": 5,
   "metadata": {},
   "outputs": [
    {
     "name": "stdout",
     "output_type": "stream",
     "text": [
      "Shape table is :  (25979, 115)\n",
      "____________________________________________________________________________________________________\n",
      "<class 'pandas.core.frame.DataFrame'>\n",
      "RangeIndex: 25979 entries, 0 to 25978\n",
      "Columns: 115 entries, id to BSA\n",
      "dtypes: float64(96), int64(9), object(10)\n",
      "memory usage: 22.8+ MB\n",
      "None\n",
      "____________________________________________________________________________________________________\n",
      "   id  country_id  league_id     season  stage                 date  \\\n",
      "0   1           1          1  2008/2009      1  2008-08-17 00:00:00   \n",
      "1   2           1          1  2008/2009      1  2008-08-16 00:00:00   \n",
      "2   3           1          1  2008/2009      1  2008-08-16 00:00:00   \n",
      "3   4           1          1  2008/2009      1  2008-08-17 00:00:00   \n",
      "4   5           1          1  2008/2009      1  2008-08-16 00:00:00   \n",
      "\n",
      "   match_api_id  home_team_api_id  away_team_api_id  home_team_goal  ...  \\\n",
      "0        492473              9987              9993               1  ...   \n",
      "1        492474             10000              9994               0  ...   \n",
      "2        492475              9984              8635               0  ...   \n",
      "3        492476              9991              9998               5  ...   \n",
      "4        492477              7947              9985               1  ...   \n",
      "\n",
      "    SJA   VCH   VCD   VCA   GBH   GBD   GBA   BSH   BSD   BSA  \n",
      "0  4.00  1.65  3.40  4.50  1.78  3.25  4.00  1.73  3.40  4.20  \n",
      "1  3.80  2.00  3.25  3.25  1.85  3.25  3.75  1.91  3.25  3.60  \n",
      "2  2.50  2.35  3.25  2.65  2.50  3.20  2.50  2.30  3.20  2.75  \n",
      "3  7.50  1.45  3.75  6.50  1.50  3.75  5.50  1.44  3.75  6.50  \n",
      "4  1.73  4.50  3.40  1.65  4.50  3.50  1.65  4.75  3.30  1.67  \n",
      "\n",
      "[5 rows x 115 columns]\n",
      "____________________________________________________________________________________________________\n",
      "Number of duplicated rows is :  0\n",
      "____________________________________________________________________________________________________\n",
      "                 id    country_id     league_id         stage  match_api_id  \\\n",
      "count  25979.000000  25979.000000  25979.000000  25979.000000  2.597900e+04   \n",
      "mean   12990.000000  11738.630317  11738.630317     18.242773  1.195429e+06   \n",
      "std     7499.635658   7553.936759   7553.936759     10.407354  4.946279e+05   \n",
      "min        1.000000      1.000000      1.000000      1.000000  4.831290e+05   \n",
      "25%     6495.500000   4769.000000   4769.000000      9.000000  7.684365e+05   \n",
      "50%    12990.000000  10257.000000  10257.000000     18.000000  1.147511e+06   \n",
      "75%    19484.500000  17642.000000  17642.000000     27.000000  1.709852e+06   \n",
      "max    25979.000000  24558.000000  24558.000000     38.000000  2.216672e+06   \n",
      "\n",
      "       home_team_api_id  away_team_api_id  home_team_goal  away_team_goal  \\\n",
      "count      25979.000000      25979.000000    25979.000000    25979.000000   \n",
      "mean        9984.371993       9984.475115        1.544594        1.160938   \n",
      "std        14087.453758      14087.445135        1.297158        1.142110   \n",
      "min         1601.000000       1601.000000        0.000000        0.000000   \n",
      "25%         8475.000000       8475.000000        1.000000        0.000000   \n",
      "50%         8697.000000       8697.000000        1.000000        1.000000   \n",
      "75%         9925.000000       9925.000000        2.000000        2.000000   \n",
      "max       274581.000000     274581.000000       10.000000        9.000000   \n",
      "\n",
      "       home_player_X1  ...           SJA           VCH           VCD  \\\n",
      "count    24158.000000  ...  17097.000000  22568.000000  22568.000000   \n",
      "mean         0.999586  ...      4.622343      2.668107      3.899048   \n",
      "std          0.022284  ...      3.632164      1.928753      1.248221   \n",
      "min          0.000000  ...      1.100000      1.030000      1.620000   \n",
      "25%          1.000000  ...      2.500000      1.700000      3.300000   \n",
      "50%          1.000000  ...      3.500000      2.150000      3.500000   \n",
      "75%          1.000000  ...      5.250000      2.800000      4.000000   \n",
      "max          2.000000  ...     41.000000     36.000000     26.000000   \n",
      "\n",
      "                VCA           GBH           GBD           GBA           BSH  \\\n",
      "count  22568.000000  14162.000000  14162.000000  14162.000000  14161.000000   \n",
      "mean       4.840281      2.498764      3.648189      4.353097      2.497894   \n",
      "std        4.318338      1.489299      0.867440      3.010189      1.507793   \n",
      "min        1.080000      1.050000      1.450000      1.120000      1.040000   \n",
      "25%        2.550000      1.670000      3.200000      2.500000      1.670000   \n",
      "50%        3.500000      2.100000      3.300000      3.400000      2.100000   \n",
      "75%        5.400000      2.650000      3.750000      5.000000      2.620000   \n",
      "max       67.000000     21.000000     11.000000     34.000000     17.000000   \n",
      "\n",
      "                BSD           BSA  \n",
      "count  14161.000000  14161.000000  \n",
      "mean       3.660742      4.405663  \n",
      "std        0.868272      3.189814  \n",
      "min        1.330000      1.120000  \n",
      "25%        3.250000      2.500000  \n",
      "50%        3.400000      3.400000  \n",
      "75%        3.750000      5.000000  \n",
      "max       13.000000     34.000000  \n",
      "\n",
      "[8 rows x 105 columns]\n",
      "____________________________________________________________________________________________________\n",
      "Number of null values is :  407395\n",
      "____________________________________________________________________________________________________\n"
     ]
    }
   ],
   "source": [
    "explore(df_match)"
   ]
  },
  {
   "cell_type": "markdown",
   "metadata": {},
   "source": [
    "Explore team"
   ]
  },
  {
   "cell_type": "code",
   "execution_count": 6,
   "metadata": {},
   "outputs": [
    {
     "name": "stdout",
     "output_type": "stream",
     "text": [
      "Shape table is :  (299, 5)\n",
      "____________________________________________________________________________________________________\n",
      "<class 'pandas.core.frame.DataFrame'>\n",
      "RangeIndex: 299 entries, 0 to 298\n",
      "Data columns (total 5 columns):\n",
      " #   Column            Non-Null Count  Dtype  \n",
      "---  ------            --------------  -----  \n",
      " 0   id                299 non-null    int64  \n",
      " 1   team_api_id       299 non-null    int64  \n",
      " 2   team_fifa_api_id  288 non-null    float64\n",
      " 3   team_long_name    299 non-null    object \n",
      " 4   team_short_name   299 non-null    object \n",
      "dtypes: float64(1), int64(2), object(2)\n",
      "memory usage: 11.8+ KB\n",
      "None\n",
      "____________________________________________________________________________________________________\n",
      "   id  team_api_id  team_fifa_api_id     team_long_name team_short_name\n",
      "0   1         9987             673.0           KRC Genk             GEN\n",
      "1   2         9993             675.0       Beerschot AC             BAC\n",
      "2   3        10000           15005.0   SV Zulte-Waregem             ZUL\n",
      "3   4         9994            2007.0   Sporting Lokeren             LOK\n",
      "4   5         9984            1750.0  KSV Cercle Brugge             CEB\n",
      "____________________________________________________________________________________________________\n",
      "Number of duplicated rows is :  0\n",
      "____________________________________________________________________________________________________\n",
      "                 id    team_api_id  team_fifa_api_id\n",
      "count    299.000000     299.000000        288.000000\n",
      "mean   23735.301003   12340.521739      21534.305556\n",
      "std    15167.914719   25940.411135      42456.439408\n",
      "min        1.000000    1601.000000          1.000000\n",
      "25%     9552.500000    8349.000000        178.750000\n",
      "50%    22805.000000    8655.000000        673.500000\n",
      "75%    36250.500000    9886.500000       1910.750000\n",
      "max    51606.000000  274581.000000     112513.000000\n",
      "____________________________________________________________________________________________________\n",
      "Number of null values is :  11\n",
      "____________________________________________________________________________________________________\n"
     ]
    }
   ],
   "source": [
    "explore(df_team)"
   ]
  },
  {
   "cell_type": "markdown",
   "metadata": {},
   "source": [
    "Expolre team attributes"
   ]
  },
  {
   "cell_type": "code",
   "execution_count": 7,
   "metadata": {},
   "outputs": [
    {
     "name": "stdout",
     "output_type": "stream",
     "text": [
      "Shape table is :  (1458, 25)\n",
      "____________________________________________________________________________________________________\n",
      "<class 'pandas.core.frame.DataFrame'>\n",
      "RangeIndex: 1458 entries, 0 to 1457\n",
      "Data columns (total 25 columns):\n",
      " #   Column                          Non-Null Count  Dtype  \n",
      "---  ------                          --------------  -----  \n",
      " 0   id                              1458 non-null   int64  \n",
      " 1   team_fifa_api_id                1458 non-null   int64  \n",
      " 2   team_api_id                     1458 non-null   int64  \n",
      " 3   date                            1458 non-null   object \n",
      " 4   buildUpPlaySpeed                1458 non-null   int64  \n",
      " 5   buildUpPlaySpeedClass           1458 non-null   object \n",
      " 6   buildUpPlayDribbling            489 non-null    float64\n",
      " 7   buildUpPlayDribblingClass       1458 non-null   object \n",
      " 8   buildUpPlayPassing              1458 non-null   int64  \n",
      " 9   buildUpPlayPassingClass         1458 non-null   object \n",
      " 10  buildUpPlayPositioningClass     1458 non-null   object \n",
      " 11  chanceCreationPassing           1458 non-null   int64  \n",
      " 12  chanceCreationPassingClass      1458 non-null   object \n",
      " 13  chanceCreationCrossing          1458 non-null   int64  \n",
      " 14  chanceCreationCrossingClass     1458 non-null   object \n",
      " 15  chanceCreationShooting          1458 non-null   int64  \n",
      " 16  chanceCreationShootingClass     1458 non-null   object \n",
      " 17  chanceCreationPositioningClass  1458 non-null   object \n",
      " 18  defencePressure                 1458 non-null   int64  \n",
      " 19  defencePressureClass            1458 non-null   object \n",
      " 20  defenceAggression               1458 non-null   int64  \n",
      " 21  defenceAggressionClass          1458 non-null   object \n",
      " 22  defenceTeamWidth                1458 non-null   int64  \n",
      " 23  defenceTeamWidthClass           1458 non-null   object \n",
      " 24  defenceDefenderLineClass        1458 non-null   object \n",
      "dtypes: float64(1), int64(11), object(13)\n",
      "memory usage: 284.9+ KB\n",
      "None\n",
      "____________________________________________________________________________________________________\n",
      "   id  team_fifa_api_id  team_api_id                 date  buildUpPlaySpeed  \\\n",
      "0   1               434         9930  2010-02-22 00:00:00                60   \n",
      "1   2               434         9930  2014-09-19 00:00:00                52   \n",
      "2   3               434         9930  2015-09-10 00:00:00                47   \n",
      "3   4                77         8485  2010-02-22 00:00:00                70   \n",
      "4   5                77         8485  2011-02-22 00:00:00                47   \n",
      "\n",
      "  buildUpPlaySpeedClass  buildUpPlayDribbling buildUpPlayDribblingClass  \\\n",
      "0              Balanced                   NaN                    Little   \n",
      "1              Balanced                  48.0                    Normal   \n",
      "2              Balanced                  41.0                    Normal   \n",
      "3                  Fast                   NaN                    Little   \n",
      "4              Balanced                   NaN                    Little   \n",
      "\n",
      "   buildUpPlayPassing buildUpPlayPassingClass  ... chanceCreationShooting  \\\n",
      "0                  50                   Mixed  ...                     55   \n",
      "1                  56                   Mixed  ...                     64   \n",
      "2                  54                   Mixed  ...                     64   \n",
      "3                  70                    Long  ...                     70   \n",
      "4                  52                   Mixed  ...                     52   \n",
      "\n",
      "   chanceCreationShootingClass chanceCreationPositioningClass  \\\n",
      "0                       Normal                      Organised   \n",
      "1                       Normal                      Organised   \n",
      "2                       Normal                      Organised   \n",
      "3                         Lots                      Organised   \n",
      "4                       Normal                      Organised   \n",
      "\n",
      "   defencePressure defencePressureClass  defenceAggression  \\\n",
      "0               50               Medium                 55   \n",
      "1               47               Medium                 44   \n",
      "2               47               Medium                 44   \n",
      "3               60               Medium                 70   \n",
      "4               47               Medium                 47   \n",
      "\n",
      "  defenceAggressionClass defenceTeamWidth  defenceTeamWidthClass  \\\n",
      "0                  Press               45                 Normal   \n",
      "1                  Press               54                 Normal   \n",
      "2                  Press               54                 Normal   \n",
      "3                 Double               70                   Wide   \n",
      "4                  Press               52                 Normal   \n",
      "\n",
      "  defenceDefenderLineClass  \n",
      "0                    Cover  \n",
      "1                    Cover  \n",
      "2                    Cover  \n",
      "3                    Cover  \n",
      "4                    Cover  \n",
      "\n",
      "[5 rows x 25 columns]\n",
      "____________________________________________________________________________________________________\n",
      "Number of duplicated rows is :  0\n",
      "____________________________________________________________________________________________________\n",
      "                id  team_fifa_api_id    team_api_id  buildUpPlaySpeed  \\\n",
      "count  1458.000000       1458.000000    1458.000000       1458.000000   \n",
      "mean    729.500000      17706.982167    9995.727023         52.462277   \n",
      "std     421.032659      39179.857739   13264.869900         11.545869   \n",
      "min       1.000000          1.000000    1601.000000         20.000000   \n",
      "25%     365.250000        110.000000    8457.750000         45.000000   \n",
      "50%     729.500000        485.000000    8674.000000         52.000000   \n",
      "75%    1093.750000       1900.000000    9904.000000         62.000000   \n",
      "max    1458.000000     112513.000000  274581.000000         80.000000   \n",
      "\n",
      "       buildUpPlayDribbling  buildUpPlayPassing  chanceCreationPassing  \\\n",
      "count            489.000000         1458.000000            1458.000000   \n",
      "mean              48.607362           48.490398              52.165295   \n",
      "std                9.678290           10.896101              10.360793   \n",
      "min               24.000000           20.000000              21.000000   \n",
      "25%               42.000000           40.000000              46.000000   \n",
      "50%               49.000000           50.000000              52.000000   \n",
      "75%               55.000000           55.000000              59.000000   \n",
      "max               77.000000           80.000000              80.000000   \n",
      "\n",
      "       chanceCreationCrossing  chanceCreationShooting  defencePressure  \\\n",
      "count             1458.000000             1458.000000      1458.000000   \n",
      "mean                53.731824               53.969136        46.017147   \n",
      "std                 11.086796               10.327566        10.227225   \n",
      "min                 20.000000               22.000000        23.000000   \n",
      "25%                 47.000000               48.000000        39.000000   \n",
      "50%                 53.000000               53.000000        45.000000   \n",
      "75%                 62.000000               61.000000        51.000000   \n",
      "max                 80.000000               80.000000        72.000000   \n",
      "\n",
      "       defenceAggression  defenceTeamWidth  \n",
      "count        1458.000000       1458.000000  \n",
      "mean           49.251029         52.185871  \n",
      "std             9.738028          9.574712  \n",
      "min            24.000000         29.000000  \n",
      "25%            44.000000         47.000000  \n",
      "50%            48.000000         52.000000  \n",
      "75%            55.000000         58.000000  \n",
      "max            72.000000         73.000000  \n",
      "____________________________________________________________________________________________________\n",
      "Number of null values is :  969\n",
      "____________________________________________________________________________________________________\n"
     ]
    }
   ],
   "source": [
    "explore(df_team_attributes)"
   ]
  },
  {
   "cell_type": "markdown",
   "metadata": {},
   "source": [
    "Neglected \"build Up Play Dribbling \" in secend question."
   ]
  },
  {
   "cell_type": "markdown",
   "metadata": {},
   "source": [
    "### Calculate the number of goals that scored by each team in each season by merge match and team table.\n",
    "\n",
    "\n",
    "\n"
   ]
  },
  {
   "cell_type": "markdown",
   "metadata": {
    "collapsed": true
   },
   "source": [
    "\n",
    "Select related columns from match table and team table.\n"
   ]
  },
  {
   "cell_type": "code",
   "execution_count": 8,
   "metadata": {},
   "outputs": [],
   "source": [
    "match_table = df_match[[\"season\",\"home_team_api_id\",\"away_team_api_id\",\"home_team_goal\",\"away_team_goal\"]]"
   ]
  },
  {
   "cell_type": "code",
   "execution_count": 9,
   "metadata": {},
   "outputs": [],
   "source": [
    "team_table = df_team[[\"team_api_id\",\"team_long_name\"]]"
   ]
  },
  {
   "cell_type": "markdown",
   "metadata": {},
   "source": [
    "First merge table to rename \"home_team_api_id\" as \" home_team"
   ]
  },
  {
   "cell_type": "code",
   "execution_count": 10,
   "metadata": {},
   "outputs": [],
   "source": [
    "match_result_home = pd.merge(match_table,team_table,left_on=\"home_team_api_id\",right_on=\"team_api_id\").rename({\"team_long_name\":\"home_team\"},axis = 1)"
   ]
  },
  {
   "cell_type": "markdown",
   "metadata": {},
   "source": [
    "Secend merge to rename \"away_team_api_id\" as away_team"
   ]
  },
  {
   "cell_type": "code",
   "execution_count": 11,
   "metadata": {},
   "outputs": [],
   "source": [
    "match_results = pd.merge(match_result_home,team_table,left_on=\"away_team_api_id\",right_on=\"team_api_id\").rename({\"team_long_name\":\"away_team\"},axis = 1)"
   ]
  },
  {
   "cell_type": "markdown",
   "metadata": {},
   "source": [
    "Sum numbers of home goals for each teams"
   ]
  },
  {
   "cell_type": "code",
   "execution_count": 12,
   "metadata": {},
   "outputs": [],
   "source": [
    "home_goals = match_results.groupby([\"home_team\",\"season\"])[\"home_team_goal\"].sum()"
   ]
  },
  {
   "cell_type": "markdown",
   "metadata": {},
   "source": [
    "Sum numbers of away goals for each teams"
   ]
  },
  {
   "cell_type": "code",
   "execution_count": 13,
   "metadata": {},
   "outputs": [],
   "source": [
    "away_goals = match_results.groupby([\"away_team\",\"season\"])[\"away_team_goal\"].sum()"
   ]
  },
  {
   "cell_type": "markdown",
   "metadata": {},
   "source": [
    "Compine home_goals and away_goals table"
   ]
  },
  {
   "cell_type": "code",
   "execution_count": 14,
   "metadata": {},
   "outputs": [],
   "source": [
    "total_goal = pd.concat([home_goals, away_goals], axis=1).reset_index().rename({\"level_0\":\"team\"}, axis='columns')"
   ]
  },
  {
   "cell_type": "code",
   "execution_count": 15,
   "metadata": {},
   "outputs": [],
   "source": [
    "total_goal[\"total_goal\"] = total_goal.sum(axis = 1)"
   ]
  },
  {
   "cell_type": "code",
   "execution_count": 16,
   "metadata": {},
   "outputs": [
    {
     "data": {
      "text/html": [
       "<div>\n",
       "<style scoped>\n",
       "    .dataframe tbody tr th:only-of-type {\n",
       "        vertical-align: middle;\n",
       "    }\n",
       "\n",
       "    .dataframe tbody tr th {\n",
       "        vertical-align: top;\n",
       "    }\n",
       "\n",
       "    .dataframe thead th {\n",
       "        text-align: right;\n",
       "    }\n",
       "</style>\n",
       "<table border=\"1\" class=\"dataframe\">\n",
       "  <thead>\n",
       "    <tr style=\"text-align: right;\">\n",
       "      <th></th>\n",
       "      <th>team</th>\n",
       "      <th>season</th>\n",
       "      <th>home_team_goal</th>\n",
       "      <th>away_team_goal</th>\n",
       "      <th>total_goal</th>\n",
       "    </tr>\n",
       "  </thead>\n",
       "  <tbody>\n",
       "    <tr>\n",
       "      <th>1047</th>\n",
       "      <td>Real Madrid CF</td>\n",
       "      <td>2011/2012</td>\n",
       "      <td>70</td>\n",
       "      <td>51</td>\n",
       "      <td>121</td>\n",
       "    </tr>\n",
       "    <tr>\n",
       "      <th>1050</th>\n",
       "      <td>Real Madrid CF</td>\n",
       "      <td>2014/2015</td>\n",
       "      <td>65</td>\n",
       "      <td>53</td>\n",
       "      <td>118</td>\n",
       "    </tr>\n",
       "    <tr>\n",
       "      <th>353</th>\n",
       "      <td>FC Barcelona</td>\n",
       "      <td>2012/2013</td>\n",
       "      <td>63</td>\n",
       "      <td>52</td>\n",
       "      <td>115</td>\n",
       "    </tr>\n",
       "    <tr>\n",
       "      <th>352</th>\n",
       "      <td>FC Barcelona</td>\n",
       "      <td>2011/2012</td>\n",
       "      <td>73</td>\n",
       "      <td>41</td>\n",
       "      <td>114</td>\n",
       "    </tr>\n",
       "    <tr>\n",
       "      <th>356</th>\n",
       "      <td>FC Barcelona</td>\n",
       "      <td>2015/2016</td>\n",
       "      <td>67</td>\n",
       "      <td>45</td>\n",
       "      <td>112</td>\n",
       "    </tr>\n",
       "    <tr>\n",
       "      <th>1051</th>\n",
       "      <td>Real Madrid CF</td>\n",
       "      <td>2015/2016</td>\n",
       "      <td>70</td>\n",
       "      <td>40</td>\n",
       "      <td>110</td>\n",
       "    </tr>\n",
       "    <tr>\n",
       "      <th>355</th>\n",
       "      <td>FC Barcelona</td>\n",
       "      <td>2014/2015</td>\n",
       "      <td>64</td>\n",
       "      <td>46</td>\n",
       "      <td>110</td>\n",
       "    </tr>\n",
       "    <tr>\n",
       "      <th>83</th>\n",
       "      <td>Ajax</td>\n",
       "      <td>2009/2010</td>\n",
       "      <td>64</td>\n",
       "      <td>42</td>\n",
       "      <td>106</td>\n",
       "    </tr>\n",
       "    <tr>\n",
       "      <th>349</th>\n",
       "      <td>FC Barcelona</td>\n",
       "      <td>2008/2009</td>\n",
       "      <td>61</td>\n",
       "      <td>44</td>\n",
       "      <td>105</td>\n",
       "    </tr>\n",
       "    <tr>\n",
       "      <th>1049</th>\n",
       "      <td>Real Madrid CF</td>\n",
       "      <td>2013/2014</td>\n",
       "      <td>63</td>\n",
       "      <td>41</td>\n",
       "      <td>104</td>\n",
       "    </tr>\n",
       "  </tbody>\n",
       "</table>\n",
       "</div>"
      ],
      "text/plain": [
       "                team     season  home_team_goal  away_team_goal  total_goal\n",
       "1047  Real Madrid CF  2011/2012              70              51         121\n",
       "1050  Real Madrid CF  2014/2015              65              53         118\n",
       "353     FC Barcelona  2012/2013              63              52         115\n",
       "352     FC Barcelona  2011/2012              73              41         114\n",
       "356     FC Barcelona  2015/2016              67              45         112\n",
       "1051  Real Madrid CF  2015/2016              70              40         110\n",
       "355     FC Barcelona  2014/2015              64              46         110\n",
       "83              Ajax  2009/2010              64              42         106\n",
       "349     FC Barcelona  2008/2009              61              44         105\n",
       "1049  Real Madrid CF  2013/2014              63              41         104"
      ]
     },
     "execution_count": 16,
     "metadata": {},
     "output_type": "execute_result"
    }
   ],
   "source": [
    "total_goal.sort_values(by='total_goal', ascending=False)[:10]"
   ]
  },
  {
   "cell_type": "markdown",
   "metadata": {},
   "source": [
    "## Research Question 1"
   ]
  },
  {
   "cell_type": "markdown",
   "metadata": {},
   "source": [
    "### 1- which teams had scored the most goals in one season?"
   ]
  },
  {
   "cell_type": "markdown",
   "metadata": {},
   "source": [
    "Concatenate team and season after exteact the first year of season"
   ]
  },
  {
   "cell_type": "code",
   "execution_count": 17,
   "metadata": {},
   "outputs": [],
   "source": [
    "total_goal[\"year\"] = total_goal[\"season\"].str[:4]"
   ]
  },
  {
   "cell_type": "code",
   "execution_count": 18,
   "metadata": {},
   "outputs": [],
   "source": [
    "total_goal[\"team_year\"] = total_goal[\"team\"] + \" \" + total_goal[\"year\"]"
   ]
  },
  {
   "cell_type": "code",
   "execution_count": 19,
   "metadata": {},
   "outputs": [],
   "source": [
    "team_goal = total_goal[[\"team_year\",\"total_goal\"]].sort_values(by='total_goal', ascending=False)"
   ]
  },
  {
   "cell_type": "code",
   "execution_count": 20,
   "metadata": {},
   "outputs": [],
   "source": [
    "most_team_score_per_year = team_goal[:9]"
   ]
  },
  {
   "cell_type": "code",
   "execution_count": 21,
   "metadata": {},
   "outputs": [
    {
     "data": {
      "text/html": [
       "<div>\n",
       "<style scoped>\n",
       "    .dataframe tbody tr th:only-of-type {\n",
       "        vertical-align: middle;\n",
       "    }\n",
       "\n",
       "    .dataframe tbody tr th {\n",
       "        vertical-align: top;\n",
       "    }\n",
       "\n",
       "    .dataframe thead th {\n",
       "        text-align: right;\n",
       "    }\n",
       "</style>\n",
       "<table border=\"1\" class=\"dataframe\">\n",
       "  <thead>\n",
       "    <tr style=\"text-align: right;\">\n",
       "      <th></th>\n",
       "      <th>team_year</th>\n",
       "      <th>total_goal</th>\n",
       "    </tr>\n",
       "  </thead>\n",
       "  <tbody>\n",
       "    <tr>\n",
       "      <th>1047</th>\n",
       "      <td>Real Madrid CF 2011</td>\n",
       "      <td>121</td>\n",
       "    </tr>\n",
       "    <tr>\n",
       "      <th>1050</th>\n",
       "      <td>Real Madrid CF 2014</td>\n",
       "      <td>118</td>\n",
       "    </tr>\n",
       "    <tr>\n",
       "      <th>353</th>\n",
       "      <td>FC Barcelona 2012</td>\n",
       "      <td>115</td>\n",
       "    </tr>\n",
       "    <tr>\n",
       "      <th>352</th>\n",
       "      <td>FC Barcelona 2011</td>\n",
       "      <td>114</td>\n",
       "    </tr>\n",
       "    <tr>\n",
       "      <th>356</th>\n",
       "      <td>FC Barcelona 2015</td>\n",
       "      <td>112</td>\n",
       "    </tr>\n",
       "    <tr>\n",
       "      <th>1051</th>\n",
       "      <td>Real Madrid CF 2015</td>\n",
       "      <td>110</td>\n",
       "    </tr>\n",
       "    <tr>\n",
       "      <th>355</th>\n",
       "      <td>FC Barcelona 2014</td>\n",
       "      <td>110</td>\n",
       "    </tr>\n",
       "    <tr>\n",
       "      <th>83</th>\n",
       "      <td>Ajax 2009</td>\n",
       "      <td>106</td>\n",
       "    </tr>\n",
       "    <tr>\n",
       "      <th>349</th>\n",
       "      <td>FC Barcelona 2008</td>\n",
       "      <td>105</td>\n",
       "    </tr>\n",
       "  </tbody>\n",
       "</table>\n",
       "</div>"
      ],
      "text/plain": [
       "                team_year  total_goal\n",
       "1047  Real Madrid CF 2011         121\n",
       "1050  Real Madrid CF 2014         118\n",
       "353     FC Barcelona 2012         115\n",
       "352     FC Barcelona 2011         114\n",
       "356     FC Barcelona 2015         112\n",
       "1051  Real Madrid CF 2015         110\n",
       "355     FC Barcelona 2014         110\n",
       "83              Ajax 2009         106\n",
       "349     FC Barcelona 2008         105"
      ]
     },
     "execution_count": 21,
     "metadata": {},
     "output_type": "execute_result"
    }
   ],
   "source": [
    "most_team_score_per_year "
   ]
  },
  {
   "cell_type": "code",
   "execution_count": 22,
   "metadata": {},
   "outputs": [
    {
     "data": {
      "image/png": "[encoded data removed]",
      "text/plain": [
       "<Figure size 432x288 with 1 Axes>"
      ]
     },
     "metadata": {
      "needs_background": "light"
     },
     "output_type": "display_data"
    }
   ],
   "source": [
    "most_team_score_per_year.plot(x = \"team_year\" , y = \"total_goal\" , kind = \"bar\",\n",
    "                              fontsize = 10,title = \"Most team socore in one season\" );\n",
    "plt.xlabel(\"Team year\",fontsize = 14);\n",
    "plt.ylabel(\"Number of goals\",fontsize = 14);\n",
    "plt.legend([\"Goals\"]);\n"
   ]
  },
  {
   "cell_type": "markdown",
   "metadata": {},
   "source": [
    "### The most team socore in one team is Real Madrid in 2011 with 121 goals.\t"
   ]
  },
  {
   "cell_type": "markdown",
   "metadata": {},
   "source": [
    "## Research Question 2\n"
   ]
  },
  {
   "cell_type": "markdown",
   "metadata": {
    "collapsed": true
   },
   "source": [
    "### 2- what is the team attributes that lead to most score in one season?\n",
    "\n",
    "\n",
    "\n"
   ]
  },
  {
   "cell_type": "markdown",
   "metadata": {},
   "source": [
    "Merge team attributes table with numbers goal per team per one season."
   ]
  },
  {
   "cell_type": "code",
   "execution_count": 23,
   "metadata": {},
   "outputs": [],
   "source": [
    "team_attributes =df_team_attributes"
   ]
  },
  {
   "cell_type": "code",
   "execution_count": 24,
   "metadata": {},
   "outputs": [],
   "source": [
    "team_attributes = pd.merge(team_attributes,team_table,on=\"team_api_id\").rename({\"team_long_name\":\"team\"},axis = 1)"
   ]
  },
  {
   "cell_type": "markdown",
   "metadata": {},
   "source": [
    "Concatenate team and season in one columns"
   ]
  },
  {
   "cell_type": "code",
   "execution_count": 25,
   "metadata": {},
   "outputs": [],
   "source": [
    "team_attributes[\"year\"] = team_attributes[\"date\"].str[:4]"
   ]
  },
  {
   "cell_type": "code",
   "execution_count": 26,
   "metadata": {},
   "outputs": [],
   "source": [
    "team_attributes[\"team_year\"] = team_attributes[\"team\"] +\" \"+ team_attributes[\"year\"]"
   ]
  },
  {
   "cell_type": "markdown",
   "metadata": {},
   "source": [
    "Select attacking attributes columne .\n",
    "\n",
    "Neglected \"build Up Play Dribbling \" in order to its contain much null values"
   ]
  },
  {
   "cell_type": "code",
   "execution_count": 27,
   "metadata": {},
   "outputs": [],
   "source": [
    "team_attributes = team_attributes[[\"team_year\",\"buildUpPlaySpeed\",\n",
    "       \"buildUpPlaySpeedClass\",\n",
    "       \"buildUpPlayDribblingClass\", \"buildUpPlayPassing\",\n",
    "       \"buildUpPlayPassingClass\", \"buildUpPlayPositioningClass\",\n",
    "       \"chanceCreationPassing\", \"chanceCreationPassingClass\",\n",
    "       \"chanceCreationCrossing\", \"chanceCreationCrossingClass\",\n",
    "       \"chanceCreationShooting\", \"chanceCreationShootingClass\",\n",
    "       \"chanceCreationPositioningClass\"]]"
   ]
  },
  {
   "cell_type": "code",
   "execution_count": 28,
   "metadata": {},
   "outputs": [
    {
     "data": {
      "text/html": [
       "<div>\n",
       "<style scoped>\n",
       "    .dataframe tbody tr th:only-of-type {\n",
       "        vertical-align: middle;\n",
       "    }\n",
       "\n",
       "    .dataframe tbody tr th {\n",
       "        vertical-align: top;\n",
       "    }\n",
       "\n",
       "    .dataframe thead th {\n",
       "        text-align: right;\n",
       "    }\n",
       "</style>\n",
       "<table border=\"1\" class=\"dataframe\">\n",
       "  <thead>\n",
       "    <tr style=\"text-align: right;\">\n",
       "      <th></th>\n",
       "      <th>team_year</th>\n",
       "      <th>buildUpPlaySpeed</th>\n",
       "      <th>buildUpPlaySpeedClass</th>\n",
       "      <th>buildUpPlayDribblingClass</th>\n",
       "      <th>buildUpPlayPassing</th>\n",
       "      <th>buildUpPlayPassingClass</th>\n",
       "      <th>buildUpPlayPositioningClass</th>\n",
       "      <th>chanceCreationPassing</th>\n",
       "      <th>chanceCreationPassingClass</th>\n",
       "      <th>chanceCreationCrossing</th>\n",
       "      <th>chanceCreationCrossingClass</th>\n",
       "      <th>chanceCreationShooting</th>\n",
       "      <th>chanceCreationShootingClass</th>\n",
       "      <th>chanceCreationPositioningClass</th>\n",
       "    </tr>\n",
       "  </thead>\n",
       "  <tbody>\n",
       "    <tr>\n",
       "      <th>0</th>\n",
       "      <td>FC Aarau 2010</td>\n",
       "      <td>60</td>\n",
       "      <td>Balanced</td>\n",
       "      <td>Little</td>\n",
       "      <td>50</td>\n",
       "      <td>Mixed</td>\n",
       "      <td>Organised</td>\n",
       "      <td>60</td>\n",
       "      <td>Normal</td>\n",
       "      <td>65</td>\n",
       "      <td>Normal</td>\n",
       "      <td>55</td>\n",
       "      <td>Normal</td>\n",
       "      <td>Organised</td>\n",
       "    </tr>\n",
       "    <tr>\n",
       "      <th>1</th>\n",
       "      <td>FC Aarau 2014</td>\n",
       "      <td>52</td>\n",
       "      <td>Balanced</td>\n",
       "      <td>Normal</td>\n",
       "      <td>56</td>\n",
       "      <td>Mixed</td>\n",
       "      <td>Organised</td>\n",
       "      <td>54</td>\n",
       "      <td>Normal</td>\n",
       "      <td>63</td>\n",
       "      <td>Normal</td>\n",
       "      <td>64</td>\n",
       "      <td>Normal</td>\n",
       "      <td>Organised</td>\n",
       "    </tr>\n",
       "    <tr>\n",
       "      <th>2</th>\n",
       "      <td>FC Aarau 2015</td>\n",
       "      <td>47</td>\n",
       "      <td>Balanced</td>\n",
       "      <td>Normal</td>\n",
       "      <td>54</td>\n",
       "      <td>Mixed</td>\n",
       "      <td>Organised</td>\n",
       "      <td>54</td>\n",
       "      <td>Normal</td>\n",
       "      <td>63</td>\n",
       "      <td>Normal</td>\n",
       "      <td>64</td>\n",
       "      <td>Normal</td>\n",
       "      <td>Organised</td>\n",
       "    </tr>\n",
       "    <tr>\n",
       "      <th>3</th>\n",
       "      <td>Aberdeen 2010</td>\n",
       "      <td>70</td>\n",
       "      <td>Fast</td>\n",
       "      <td>Little</td>\n",
       "      <td>70</td>\n",
       "      <td>Long</td>\n",
       "      <td>Organised</td>\n",
       "      <td>70</td>\n",
       "      <td>Risky</td>\n",
       "      <td>70</td>\n",
       "      <td>Lots</td>\n",
       "      <td>70</td>\n",
       "      <td>Lots</td>\n",
       "      <td>Organised</td>\n",
       "    </tr>\n",
       "    <tr>\n",
       "      <th>4</th>\n",
       "      <td>Aberdeen 2011</td>\n",
       "      <td>47</td>\n",
       "      <td>Balanced</td>\n",
       "      <td>Little</td>\n",
       "      <td>52</td>\n",
       "      <td>Mixed</td>\n",
       "      <td>Organised</td>\n",
       "      <td>53</td>\n",
       "      <td>Normal</td>\n",
       "      <td>48</td>\n",
       "      <td>Normal</td>\n",
       "      <td>52</td>\n",
       "      <td>Normal</td>\n",
       "      <td>Organised</td>\n",
       "    </tr>\n",
       "  </tbody>\n",
       "</table>\n",
       "</div>"
      ],
      "text/plain": [
       "       team_year  buildUpPlaySpeed buildUpPlaySpeedClass  \\\n",
       "0  FC Aarau 2010                60              Balanced   \n",
       "1  FC Aarau 2014                52              Balanced   \n",
       "2  FC Aarau 2015                47              Balanced   \n",
       "3  Aberdeen 2010                70                  Fast   \n",
       "4  Aberdeen 2011                47              Balanced   \n",
       "\n",
       "  buildUpPlayDribblingClass  buildUpPlayPassing buildUpPlayPassingClass  \\\n",
       "0                    Little                  50                   Mixed   \n",
       "1                    Normal                  56                   Mixed   \n",
       "2                    Normal                  54                   Mixed   \n",
       "3                    Little                  70                    Long   \n",
       "4                    Little                  52                   Mixed   \n",
       "\n",
       "  buildUpPlayPositioningClass  chanceCreationPassing  \\\n",
       "0                   Organised                     60   \n",
       "1                   Organised                     54   \n",
       "2                   Organised                     54   \n",
       "3                   Organised                     70   \n",
       "4                   Organised                     53   \n",
       "\n",
       "  chanceCreationPassingClass  chanceCreationCrossing  \\\n",
       "0                     Normal                      65   \n",
       "1                     Normal                      63   \n",
       "2                     Normal                      63   \n",
       "3                      Risky                      70   \n",
       "4                     Normal                      48   \n",
       "\n",
       "  chanceCreationCrossingClass  chanceCreationShooting  \\\n",
       "0                      Normal                      55   \n",
       "1                      Normal                      64   \n",
       "2                      Normal                      64   \n",
       "3                        Lots                      70   \n",
       "4                      Normal                      52   \n",
       "\n",
       "  chanceCreationShootingClass chanceCreationPositioningClass  \n",
       "0                      Normal                      Organised  \n",
       "1                      Normal                      Organised  \n",
       "2                      Normal                      Organised  \n",
       "3                        Lots                      Organised  \n",
       "4                      Normal                      Organised  "
      ]
     },
     "execution_count": 28,
     "metadata": {},
     "output_type": "execute_result"
    }
   ],
   "source": [
    "team_attributes.head()"
   ]
  },
  {
   "cell_type": "code",
   "execution_count": 29,
   "metadata": {},
   "outputs": [],
   "source": [
    "match_result_home = pd.merge(match_table,team_table,left_on=\"home_team_api_id\",right_on=\"team_api_id\").rename({\"team_long_name\":\"home_team\"},axis = 1)"
   ]
  },
  {
   "cell_type": "code",
   "execution_count": 30,
   "metadata": {},
   "outputs": [],
   "source": [
    "team_goal_attributes = pd.merge(team_attributes,team_goal,on = \"team_year\")"
   ]
  },
  {
   "cell_type": "code",
   "execution_count": 31,
   "metadata": {},
   "outputs": [
    {
     "name": "stdout",
     "output_type": "stream",
     "text": [
      "Shape table is :  (1047, 15)\n",
      "____________________________________________________________________________________________________\n",
      "<class 'pandas.core.frame.DataFrame'>\n",
      "Int64Index: 1047 entries, 0 to 1046\n",
      "Data columns (total 15 columns):\n",
      " #   Column                          Non-Null Count  Dtype \n",
      "---  ------                          --------------  ----- \n",
      " 0   team_year                       1047 non-null   object\n",
      " 1   buildUpPlaySpeed                1047 non-null   int64 \n",
      " 2   buildUpPlaySpeedClass           1047 non-null   object\n",
      " 3   buildUpPlayDribblingClass       1047 non-null   object\n",
      " 4   buildUpPlayPassing              1047 non-null   int64 \n",
      " 5   buildUpPlayPassingClass         1047 non-null   object\n",
      " 6   buildUpPlayPositioningClass     1047 non-null   object\n",
      " 7   chanceCreationPassing           1047 non-null   int64 \n",
      " 8   chanceCreationPassingClass      1047 non-null   object\n",
      " 9   chanceCreationCrossing          1047 non-null   int64 \n",
      " 10  chanceCreationCrossingClass     1047 non-null   object\n",
      " 11  chanceCreationShooting          1047 non-null   int64 \n",
      " 12  chanceCreationShootingClass     1047 non-null   object\n",
      " 13  chanceCreationPositioningClass  1047 non-null   object\n",
      " 14  total_goal                      1047 non-null   int64 \n",
      "dtypes: int64(6), object(9)\n",
      "memory usage: 130.9+ KB\n",
      "None\n",
      "____________________________________________________________________________________________________\n",
      "       team_year  buildUpPlaySpeed buildUpPlaySpeedClass  \\\n",
      "0  FC Aarau 2014                52              Balanced   \n",
      "1  Aberdeen 2010                70                  Fast   \n",
      "2  Aberdeen 2011                47              Balanced   \n",
      "3  Aberdeen 2012                58              Balanced   \n",
      "4  Aberdeen 2013                62              Balanced   \n",
      "\n",
      "  buildUpPlayDribblingClass  buildUpPlayPassing buildUpPlayPassingClass  \\\n",
      "0                    Normal                  56                   Mixed   \n",
      "1                    Little                  70                    Long   \n",
      "2                    Little                  52                   Mixed   \n",
      "3                    Little                  62                   Mixed   \n",
      "4                    Little                  45                   Mixed   \n",
      "\n",
      "  buildUpPlayPositioningClass  chanceCreationPassing  \\\n",
      "0                   Organised                     54   \n",
      "1                   Organised                     70   \n",
      "2                   Organised                     53   \n",
      "3                   Organised                     45   \n",
      "4                   Organised                     40   \n",
      "\n",
      "  chanceCreationPassingClass  chanceCreationCrossing  \\\n",
      "0                     Normal                      63   \n",
      "1                      Risky                      70   \n",
      "2                     Normal                      48   \n",
      "3                     Normal                      70   \n",
      "4                     Normal                      50   \n",
      "\n",
      "  chanceCreationCrossingClass  chanceCreationShooting  \\\n",
      "0                      Normal                      64   \n",
      "1                        Lots                      70   \n",
      "2                      Normal                      52   \n",
      "3                        Lots                      55   \n",
      "4                      Normal                      55   \n",
      "\n",
      "  chanceCreationShootingClass chanceCreationPositioningClass  total_goal  \n",
      "0                      Normal                      Organised          31  \n",
      "1                        Lots                      Organised          39  \n",
      "2                      Normal                      Organised          36  \n",
      "3                      Normal                      Organised          41  \n",
      "4                      Normal                      Organised          53  \n",
      "____________________________________________________________________________________________________\n",
      "Number of duplicated rows is :  7\n",
      "____________________________________________________________________________________________________\n",
      "       buildUpPlaySpeed  buildUpPlayPassing  chanceCreationPassing  \\\n",
      "count       1047.000000         1047.000000            1047.000000   \n",
      "mean          52.678128           47.838586              52.469914   \n",
      "std           11.906685           11.063078              10.432557   \n",
      "min           20.000000           20.000000              21.000000   \n",
      "25%           45.000000           39.000000              47.000000   \n",
      "50%           53.000000           48.000000              52.000000   \n",
      "75%           63.000000           55.000000              60.000000   \n",
      "max           80.000000           80.000000              80.000000   \n",
      "\n",
      "       chanceCreationCrossing  chanceCreationShooting   total_goal  \n",
      "count             1047.000000             1047.000000  1047.000000  \n",
      "mean                54.145177               54.325692    48.564470  \n",
      "std                 11.106211               10.591671    15.971156  \n",
      "min                 20.000000               22.000000     5.000000  \n",
      "25%                 48.000000               49.000000    38.000000  \n",
      "50%                 53.000000               54.000000    46.000000  \n",
      "75%                 64.000000               63.000000    56.500000  \n",
      "max                 80.000000               80.000000   121.000000  \n",
      "____________________________________________________________________________________________________\n",
      "Number of null values is :  0\n",
      "____________________________________________________________________________________________________\n"
     ]
    }
   ],
   "source": [
    "explore(team_goal_attributes)"
   ]
  },
  {
   "cell_type": "markdown",
   "metadata": {},
   "source": [
    "Remove duplicated rows"
   ]
  },
  {
   "cell_type": "code",
   "execution_count": 32,
   "metadata": {},
   "outputs": [],
   "source": [
    "team_goal_attributes.drop_duplicates(inplace=True)"
   ]
  },
  {
   "cell_type": "code",
   "execution_count": 33,
   "metadata": {},
   "outputs": [
    {
     "data": {
      "text/html": [
       "<div>\n",
       "<style scoped>\n",
       "    .dataframe tbody tr th:only-of-type {\n",
       "        vertical-align: middle;\n",
       "    }\n",
       "\n",
       "    .dataframe tbody tr th {\n",
       "        vertical-align: top;\n",
       "    }\n",
       "\n",
       "    .dataframe thead th {\n",
       "        text-align: right;\n",
       "    }\n",
       "</style>\n",
       "<table border=\"1\" class=\"dataframe\">\n",
       "  <thead>\n",
       "    <tr style=\"text-align: right;\">\n",
       "      <th></th>\n",
       "      <th>team_year</th>\n",
       "      <th>buildUpPlaySpeed</th>\n",
       "      <th>buildUpPlaySpeedClass</th>\n",
       "      <th>buildUpPlayDribblingClass</th>\n",
       "      <th>buildUpPlayPassing</th>\n",
       "      <th>buildUpPlayPassingClass</th>\n",
       "      <th>buildUpPlayPositioningClass</th>\n",
       "      <th>chanceCreationPassing</th>\n",
       "      <th>chanceCreationPassingClass</th>\n",
       "      <th>chanceCreationCrossing</th>\n",
       "      <th>chanceCreationCrossingClass</th>\n",
       "      <th>chanceCreationShooting</th>\n",
       "      <th>chanceCreationShootingClass</th>\n",
       "      <th>chanceCreationPositioningClass</th>\n",
       "      <th>total_goal</th>\n",
       "    </tr>\n",
       "  </thead>\n",
       "  <tbody>\n",
       "    <tr>\n",
       "      <th>0</th>\n",
       "      <td>FC Aarau 2014</td>\n",
       "      <td>52</td>\n",
       "      <td>Balanced</td>\n",
       "      <td>Normal</td>\n",
       "      <td>56</td>\n",
       "      <td>Mixed</td>\n",
       "      <td>Organised</td>\n",
       "      <td>54</td>\n",
       "      <td>Normal</td>\n",
       "      <td>63</td>\n",
       "      <td>Normal</td>\n",
       "      <td>64</td>\n",
       "      <td>Normal</td>\n",
       "      <td>Organised</td>\n",
       "      <td>31</td>\n",
       "    </tr>\n",
       "    <tr>\n",
       "      <th>1</th>\n",
       "      <td>Aberdeen 2010</td>\n",
       "      <td>70</td>\n",
       "      <td>Fast</td>\n",
       "      <td>Little</td>\n",
       "      <td>70</td>\n",
       "      <td>Long</td>\n",
       "      <td>Organised</td>\n",
       "      <td>70</td>\n",
       "      <td>Risky</td>\n",
       "      <td>70</td>\n",
       "      <td>Lots</td>\n",
       "      <td>70</td>\n",
       "      <td>Lots</td>\n",
       "      <td>Organised</td>\n",
       "      <td>39</td>\n",
       "    </tr>\n",
       "    <tr>\n",
       "      <th>2</th>\n",
       "      <td>Aberdeen 2011</td>\n",
       "      <td>47</td>\n",
       "      <td>Balanced</td>\n",
       "      <td>Little</td>\n",
       "      <td>52</td>\n",
       "      <td>Mixed</td>\n",
       "      <td>Organised</td>\n",
       "      <td>53</td>\n",
       "      <td>Normal</td>\n",
       "      <td>48</td>\n",
       "      <td>Normal</td>\n",
       "      <td>52</td>\n",
       "      <td>Normal</td>\n",
       "      <td>Organised</td>\n",
       "      <td>36</td>\n",
       "    </tr>\n",
       "    <tr>\n",
       "      <th>3</th>\n",
       "      <td>Aberdeen 2012</td>\n",
       "      <td>58</td>\n",
       "      <td>Balanced</td>\n",
       "      <td>Little</td>\n",
       "      <td>62</td>\n",
       "      <td>Mixed</td>\n",
       "      <td>Organised</td>\n",
       "      <td>45</td>\n",
       "      <td>Normal</td>\n",
       "      <td>70</td>\n",
       "      <td>Lots</td>\n",
       "      <td>55</td>\n",
       "      <td>Normal</td>\n",
       "      <td>Organised</td>\n",
       "      <td>41</td>\n",
       "    </tr>\n",
       "    <tr>\n",
       "      <th>4</th>\n",
       "      <td>Aberdeen 2013</td>\n",
       "      <td>62</td>\n",
       "      <td>Balanced</td>\n",
       "      <td>Little</td>\n",
       "      <td>45</td>\n",
       "      <td>Mixed</td>\n",
       "      <td>Organised</td>\n",
       "      <td>40</td>\n",
       "      <td>Normal</td>\n",
       "      <td>50</td>\n",
       "      <td>Normal</td>\n",
       "      <td>55</td>\n",
       "      <td>Normal</td>\n",
       "      <td>Organised</td>\n",
       "      <td>53</td>\n",
       "    </tr>\n",
       "  </tbody>\n",
       "</table>\n",
       "</div>"
      ],
      "text/plain": [
       "       team_year  buildUpPlaySpeed buildUpPlaySpeedClass  \\\n",
       "0  FC Aarau 2014                52              Balanced   \n",
       "1  Aberdeen 2010                70                  Fast   \n",
       "2  Aberdeen 2011                47              Balanced   \n",
       "3  Aberdeen 2012                58              Balanced   \n",
       "4  Aberdeen 2013                62              Balanced   \n",
       "\n",
       "  buildUpPlayDribblingClass  buildUpPlayPassing buildUpPlayPassingClass  \\\n",
       "0                    Normal                  56                   Mixed   \n",
       "1                    Little                  70                    Long   \n",
       "2                    Little                  52                   Mixed   \n",
       "3                    Little                  62                   Mixed   \n",
       "4                    Little                  45                   Mixed   \n",
       "\n",
       "  buildUpPlayPositioningClass  chanceCreationPassing  \\\n",
       "0                   Organised                     54   \n",
       "1                   Organised                     70   \n",
       "2                   Organised                     53   \n",
       "3                   Organised                     45   \n",
       "4                   Organised                     40   \n",
       "\n",
       "  chanceCreationPassingClass  chanceCreationCrossing  \\\n",
       "0                     Normal                      63   \n",
       "1                      Risky                      70   \n",
       "2                     Normal                      48   \n",
       "3                     Normal                      70   \n",
       "4                     Normal                      50   \n",
       "\n",
       "  chanceCreationCrossingClass  chanceCreationShooting  \\\n",
       "0                      Normal                      64   \n",
       "1                        Lots                      70   \n",
       "2                      Normal                      52   \n",
       "3                        Lots                      55   \n",
       "4                      Normal                      55   \n",
       "\n",
       "  chanceCreationShootingClass chanceCreationPositioningClass  total_goal  \n",
       "0                      Normal                      Organised          31  \n",
       "1                        Lots                      Organised          39  \n",
       "2                      Normal                      Organised          36  \n",
       "3                      Normal                      Organised          41  \n",
       "4                      Normal                      Organised          53  "
      ]
     },
     "execution_count": 33,
     "metadata": {},
     "output_type": "execute_result"
    }
   ],
   "source": [
    "team_goal_attributes.head()"
   ]
  },
  {
   "cell_type": "markdown",
   "metadata": {},
   "source": [
    "### Create scatter plot  between number of goal and numerical attributes"
   ]
  },
  {
   "cell_type": "code",
   "execution_count": 34,
   "metadata": {
    "scrolled": true
   },
   "outputs": [
    {
     "data": {
      "image/png": "[encoded data removed]",
      "text/plain": [
       "<Figure size 432x288 with 1 Axes>"
      ]
     },
     "metadata": {
      "needs_background": "light"
     },
     "output_type": "display_data"
    },
    {
     "data": {
      "image/png": "[encoded data removed]",
      "text/plain": [
       "<Figure size 432x288 with 1 Axes>"
      ]
     },
     "metadata": {
      "needs_background": "light"
     },
     "output_type": "display_data"
    },
    {
     "data": {
      "image/png": "[encoded data removed]",
      "text/plain": [
       "<Figure size 432x288 with 1 Axes>"
      ]
     },
     "metadata": {
      "needs_background": "light"
     },
     "output_type": "display_data"
    },
    {
     "data": {
      "image/png": "[encoded data removed]",
      "text/plain": [
       "<Figure size 432x288 with 1 Axes>"
      ]
     },
     "metadata": {
      "needs_background": "light"
     },
     "output_type": "display_data"
    },
    {
     "data": {
      "image/png": "[encoded data removed]",
      "text/plain": [
       "<Figure size 432x288 with 1 Axes>"
      ]
     },
     "metadata": {
      "needs_background": "light"
     },
     "output_type": "display_data"
    }
   ],
   "source": [
    "numerica_attributes = {\"buildUpPlaySpeed\",\"buildUpPlayPassing\",\"chanceCreationPassing\",\n",
    "                       \"chanceCreationCrossing\",\"chanceCreationShooting\"}\n",
    "for i in numerica_attributes:\n",
    "    team_goal_attributes.plot(x=i, y=\"total_goal\", kind=\"scatter\").set_title(i)\n",
    "    plt.legend([\"Goals\"]);"
   ]
  },
  {
   "cell_type": "markdown",
   "metadata": {},
   "source": [
    "It's clear that buildUpPlayPassing and buildUpPlaySpeed is most attributes effects in top (20) teams scored goal"
   ]
  },
  {
   "cell_type": "markdown",
   "metadata": {},
   "source": [
    "### Create box plot  between number of goal for teams scrore more than 100 goals one season and categorical_attributes."
   ]
  },
  {
   "cell_type": "code",
   "execution_count": 36,
   "metadata": {},
   "outputs": [
    {
     "name": "stdout",
     "output_type": "stream",
     "text": [
      "(15, 15)\n"
     ]
    },
    {
     "data": {
      "image/png": "[encoded data removed]",
      "text/plain": [
       "<Figure size 360x360 with 1 Axes>"
      ]
     },
     "metadata": {
      "needs_background": "light"
     },
     "output_type": "display_data"
    },
    {
     "data": {
      "image/png": "[encoded data removed]",
      "text/plain": [
       "<Figure size 360x360 with 1 Axes>"
      ]
     },
     "metadata": {
      "needs_background": "light"
     },
     "output_type": "display_data"
    },
    {
     "data": {
      "image/png": "[encoded data removed]",
      "text/plain": [
       "<Figure size 360x360 with 1 Axes>"
      ]
     },
     "metadata": {
      "needs_background": "light"
     },
     "output_type": "display_data"
    },
    {
     "data": {
      "image/png": "[encoded data removed]",
      "text/plain": [
       "<Figure size 360x360 with 1 Axes>"
      ]
     },
     "metadata": {
      "needs_background": "light"
     },
     "output_type": "display_data"
    },
    {
     "data": {
      "image/png": "[encoded data removed]",
      "text/plain": [
       "<Figure size 360x360 with 1 Axes>"
      ]
     },
     "metadata": {
      "needs_background": "light"
     },
     "output_type": "display_data"
    },
    {
     "data": {
      "image/png": "[encoded data removed]",
      "text/plain": [
       "<Figure size 360x360 with 1 Axes>"
      ]
     },
     "metadata": {
      "needs_background": "light"
     },
     "output_type": "display_data"
    },
    {
     "data": {
      "image/png": "[encoded data removed]",
      "text/plain": [
       "<Figure size 360x360 with 1 Axes>"
      ]
     },
     "metadata": {
      "needs_background": "light"
     },
     "output_type": "display_data"
    }
   ],
   "source": [
    "high_score_teams  = team_goal_attributes.query(\"total_goal  > 100\")\n",
    "print(high_score_teams.shape)\n",
    "\n",
    "categorical_attributes = {\"buildUpPlaySpeedClass\",\"buildUpPlayDribblingClass\",\"buildUpPlayPassingClass\",\n",
    "               \"buildUpPlayPositioningClass\",\"chanceCreationPassingClass\",\"chanceCreationCrossingClass\"\n",
    "               ,\"chanceCreationPositioningClass\"}\n",
    "for z in categorical_attributes:\n",
    "    sns.catplot(x=z, y=\"total_goal\", kind=\"box\", data = high_score_teams).fig.suptitle(z)\n",
    " \n"
   ]
  },
  {
   "cell_type": "markdown",
   "metadata": {},
   "source": [
    "The team attributes of teams with more than 80 goals is:\n",
    "\n",
    "Slow : buildUpPlaySpeedClass \n",
    "\n",
    "Little : chanceCreationCrossingClass\n",
    "\n",
    "Free form : buildUpPlayPositioningClass"
   ]
  },
  {
   "cell_type": "markdown",
   "metadata": {},
   "source": [
    "## Limitations\n",
    "1- In team attributes table \"build up play dribbling\" columns having more than 65 % null values, so negelcted this columns to avoid wrong analysis.\n",
    "\n",
    "2- In match table there are many null values such as player name which forced me to avoid player analysis. \n"
   ]
  },
  {
   "cell_type": "markdown",
   "metadata": {},
   "source": [
    "<a id='conclusions'></a>\n",
    "## Conclusions\n",
    "\n",
    "\n",
    "- The most team socore in one season is Real Madrid in 2011 with 121 goals.\t\n",
    "\n",
    "- Real Madrid and Barcelona are most teams score goals in one season.\n",
    "\n",
    "- buildUpPlayPassing and buildUpPlaySpeed is most attributes effects in top 20 teams scored goal.\n",
    "\n",
    " - The team attributes of teams with more than 80 goals is:\n",
    "    - Slow : build up play speed class\n",
    "    - Little : chanc creation crossing class\n",
    "    - Free form : build up play positioning class\n",
    "\n",
    "\n",
    "\n"
   ]
  },
  {
   "cell_type": "markdown",
   "metadata": {},
   "source": [
    "# Reference\n",
    "pandas.pydata\n",
    "\n",
    "seaborn.pydata\n",
    "\n",
    "stackoverflow.com\n",
    "\n",
    "kaggle\n",
    "\n"
   ]
  }
 ],
 "metadata": {
  "kernelspec": {
   "display_name": "Python 3",
   "language": "python",
   "name": "python3"
  },
  "language_info": {
   "codemirror_mode": {
    "name": "ipython",
    "version": 3
   },
   "file_extension": ".py",
   "mimetype": "text/x-python",
   "name": "python",
   "nbconvert_exporter": "python",
   "pygments_lexer": "ipython3",
   "version": "3.8.8"
  }
 },
 "nbformat": 4,
 "nbformat_minor": 2
}
